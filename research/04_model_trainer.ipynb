{
 "cells": [
  {
   "cell_type": "code",
   "execution_count": 1,
   "metadata": {},
   "outputs": [
    {
     "name": "stdout",
     "output_type": "stream",
     "text": [
      "/Users/isham993/Desktop/Programming-Tutorials/2023-Data-Science/ML-Projects/end-to-end-project-with-mlflow\n"
     ]
    }
   ],
   "source": [
    "%cd .."
   ]
  },
  {
   "cell_type": "code",
   "execution_count": 2,
   "metadata": {},
   "outputs": [],
   "source": [
    "from utils import *"
   ]
  },
  {
   "cell_type": "code",
   "execution_count": 3,
   "metadata": {},
   "outputs": [
    {
     "name": "stdout",
     "output_type": "stream",
     "text": [
      "tracking URI: 'http://ec2-3-231-221-215.compute-1.amazonaws.com:5000'\n"
     ]
    }
   ],
   "source": [
    "print(f\"tracking URI: '{mlflow.get_tracking_uri()}'\")"
   ]
  },
  {
   "cell_type": "code",
   "execution_count": 4,
   "metadata": {},
   "outputs": [],
   "source": [
    "@dataclass(frozen=True)\n",
    "class ModelTrainerConfig:\n",
    "    root_dir: Path\n",
    "    train_data_path: Path\n",
    "    test_data_path: Path\n",
    "    model_name: str\n",
    "    alpha: float\n",
    "    l1_ratio: float\n",
    "    target_column: str\n",
    "    metric_file_name: Path"
   ]
  },
  {
   "cell_type": "code",
   "execution_count": 5,
   "metadata": {},
   "outputs": [],
   "source": [
    "class ConfigurationManager:\n",
    "    def __init__(\n",
    "        self,\n",
    "        config_filepath = CONFIG_FILE_PATH,\n",
    "        params_filepath = PARAMS_FILE_PATH,\n",
    "        schema_filepath = SCHEMA_FILE_PATH):\n",
    "\n",
    "        self.config = read_yaml(config_filepath)\n",
    "        self.params = read_yaml(params_filepath)\n",
    "        self.schema = read_yaml(schema_filepath)\n",
    "\n",
    "        create_directories([self.config.artifacts_root])\n",
    "\n",
    "\n",
    "    def get_model_trainer_config(self) -> ModelTrainerConfig:\n",
    "        config = self.config.model_trainer\n",
    "        params = self.params.ElasticNet\n",
    "        schema =  self.schema.TARGET_COLUMN\n",
    "\n",
    "        create_directories([config.root_dir])\n",
    "\n",
    "        model_trainer_config = ModelTrainerConfig(\n",
    "            root_dir=config.root_dir,\n",
    "            train_data_path = config.train_data_path,\n",
    "            test_data_path = config.test_data_path,\n",
    "            model_name = config.model_name,\n",
    "            alpha = params.alpha,\n",
    "            l1_ratio = params.l1_ratio,\n",
    "            target_column = schema.name,\n",
    "            metric_file_name = config.metric_file_name,\n",
    "        )\n",
    "\n",
    "        return model_trainer_config"
   ]
  },
  {
   "cell_type": "code",
   "execution_count": null,
   "metadata": {},
   "outputs": [],
   "source": []
  },
  {
   "cell_type": "code",
   "execution_count": 6,
   "metadata": {},
   "outputs": [],
   "source": [
    "class ModelTrainer:\n",
    "    def __init__(self, config: ModelTrainerConfig):\n",
    "        self.config = config\n",
    "\n",
    "    def eval_metrics(self,actual, pred):\n",
    "        rmse = np.sqrt(mean_squared_error(actual, pred))\n",
    "        mae = mean_absolute_error(actual, pred)\n",
    "        r2 = r2_score(actual, pred)\n",
    "        return rmse, mae, r2\n",
    "    \n",
    "    def train(self):\n",
    "        with mlflow.start_run():\n",
    "            # Setting up tags - developer and model\n",
    "            mlflow.set_tag(\"model\", \"xgboost\")\n",
    "            mlflow.set_tag(\"developer\", \"isham\")\n",
    "\n",
    "            train_data = pd.read_csv(self.config.train_data_path)\n",
    "            test_data = pd.read_csv(self.config.test_data_path)\n",
    "\n",
    "            # Tracking dataset\n",
    "            mlflow.log_param(\"train_data\", self.config.train_data_path)\n",
    "            mlflow.log_param(\"test_data\", self.config.test_data_path)\n",
    "\n",
    "            train_x = train_data.drop([self.config.target_column], axis=1)\n",
    "            test_x = test_data.drop([self.config.target_column], axis=1)\n",
    "            train_y = train_data[[self.config.target_column]]\n",
    "            test_y = test_data[[self.config.target_column]]\n",
    "\n",
    "            # Model Training\n",
    "            lr = ElasticNet(alpha=self.config.alpha, l1_ratio=self.config.l1_ratio, random_state=42)\n",
    "            lr.fit(train_x, train_y)\n",
    "            \n",
    "            # Predictions\n",
    "            y_pred = lr.predict(test_x)\n",
    "\n",
    "            # Model Evaluation\n",
    "            (rmse, mae, r2) = self.eval_metrics(test_y, y_pred)\n",
    "            \n",
    "            # Saving metrics as local\n",
    "            scores = {\"rmse\": rmse, \"mae\": mae, \"r2\": r2}\n",
    "            save_json(path=Path(self.config.metric_file_name), data=scores)\n",
    "            \n",
    "            # Tracking parameters and evaluation metric\n",
    "            mlflow.log_param(\"alpha\", self.config.alpha)\n",
    "            mlflow.log_param(\"l1_ratio\", self.config.l1_ratio)\n",
    "\n",
    "            mlflow.log_metric(\"rmse\", rmse)\n",
    "            mlflow.log_metric(\"mae\", mae)\n",
    "            mlflow.log_metric(\"r2\", r2) \n",
    "            \n",
    "            # Saving the model\n",
    "            model_path = os.path.join(self.config.root_dir, self.config.model_name)\n",
    "            joblib.dump(lr, model_path)\n",
    "\n",
    "            # Saving the model in AWS and Registering model\n",
    "            # mlflow.log_artifact(local_path=model_path, artifact_path=\"models_pickle\")\n",
    "            mlflow.sklearn.log_model(lr, \"model\", registered_model_name=\"ElasticnetModel\")"
   ]
  },
  {
   "cell_type": "code",
   "execution_count": 7,
   "metadata": {},
   "outputs": [
    {
     "name": "stdout",
     "output_type": "stream",
     "text": [
      "[2023-11-02 16:57:33,861: INFO: helper: yaml file: config/config.yaml loaded successfully]\n",
      "[2023-11-02 16:57:33,863: INFO: helper: yaml file: params.yaml loaded successfully]\n",
      "[2023-11-02 16:57:33,865: INFO: helper: yaml file: schema.yaml loaded successfully]\n",
      "[2023-11-02 16:57:33,865: INFO: helper: created directory at: artifacts]\n",
      "[2023-11-02 16:57:33,866: INFO: helper: created directory at: artifacts/model_trainer]\n",
      "[2023-11-02 16:57:36,056: INFO: helper: json file saved at: artifacts/model_trainer/metrics.json]\n"
     ]
    },
    {
     "name": "stderr",
     "output_type": "stream",
     "text": [
      "/Users/isham993/mambaforge/envs/gpu_torch/lib/python3.11/site-packages/_distutils_hack/__init__.py:33: UserWarning: Setuptools is replacing distutils.\n",
      "  warnings.warn(\"Setuptools is replacing distutils.\")\n"
     ]
    },
    {
     "name": "stdout",
     "output_type": "stream",
     "text": [
      "[2023-11-02 16:57:40,825: INFO: credentials: Found credentials in shared credentials file: ~/.aws/credentials]\n"
     ]
    },
    {
     "name": "stderr",
     "output_type": "stream",
     "text": [
      "Registered model 'ElasticnetModel' already exists. Creating a new version of this model...\n",
      "2023/11/02 16:57:45 INFO mlflow.tracking._model_registry.client: Waiting up to 300 seconds for model version to finish creation.                     Model name: ElasticnetModel, version 5\n",
      "Created version '5' of model 'ElasticnetModel'.\n"
     ]
    }
   ],
   "source": [
    "try:\n",
    "    config = ConfigurationManager()\n",
    "    model_trainer_config = config.get_model_trainer_config()\n",
    "    model_trainer_config = ModelTrainer(config=model_trainer_config)\n",
    "    model_trainer_config.train()\n",
    "except Exception as e:\n",
    "    raise e"
   ]
  },
  {
   "cell_type": "code",
   "execution_count": null,
   "metadata": {},
   "outputs": [],
   "source": []
  }
 ],
 "metadata": {
  "kernelspec": {
   "display_name": "gpu_torch",
   "language": "python",
   "name": "python3"
  },
  "language_info": {
   "codemirror_mode": {
    "name": "ipython",
    "version": 3
   },
   "file_extension": ".py",
   "mimetype": "text/x-python",
   "name": "python",
   "nbconvert_exporter": "python",
   "pygments_lexer": "ipython3",
   "version": "3.11.3"
  },
  "orig_nbformat": 4
 },
 "nbformat": 4,
 "nbformat_minor": 2
}
